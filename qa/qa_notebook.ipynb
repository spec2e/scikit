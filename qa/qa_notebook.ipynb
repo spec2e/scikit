{
 "cells": [
  {
   "cell_type": "code",
   "execution_count": 1,
   "metadata": {
    "collapsed": false
   },
   "outputs": [
    {
     "name": "stdout",
     "output_type": "stream",
     "text": [
      "number of question/answers 28933\n",
      "count in X 28933\n",
      "count in Y 28933\n"
     ]
    }
   ],
   "source": [
    "import json\n",
    "import ast\n",
    "\n",
    "all_q_a = []\n",
    "X = []\n",
    "y = []\n",
    "\n",
    "with open(\"qa_baby.json\") as f:\n",
    "\n",
    "    for line in f:\n",
    "        json_line = ast.literal_eval(line)\n",
    "        json_data = json.dumps(json_line)\n",
    "        json_data = json.loads(json_data)\n",
    "        all_q_a.append(json_data)\n",
    "\n",
    "\n",
    "print(\"number of question/answers %i\" % len(all_q_a))\n",
    "\n",
    "for qa in all_q_a:\n",
    "    X.append(qa[\"question\"].lower())\n",
    "    y.append(qa[\"answer\"].lower())\n",
    "\n",
    "\n",
    "print(\"count in X %i\" % len(X))\n",
    "print(\"count in Y %i\" % len(y))"
   ]
  },
  {
   "cell_type": "code",
   "execution_count": 2,
   "metadata": {
    "collapsed": false
   },
   "outputs": [
    {
     "name": "stdout",
     "output_type": "stream",
     "text": [
      "count x_train 20253\n",
      "count y_train 20253\n",
      "count x_test 4340\n",
      "count y_test 4340\n",
      "count x_val 4340\n",
      "count y_val 4340\n"
     ]
    }
   ],
   "source": [
    "from sklearn.model_selection import train_test_split\n",
    "\n",
    "x_train, x_test, y_train, y_test = train_test_split(X, y, test_size=0.3)\n",
    "x_test, x_val, y_test, y_val = train_test_split(x_test, y_test, test_size=0.5)\n",
    "\n",
    "print(\"count x_train %i\" % len(x_train))\n",
    "print(\"count y_train %i\" % len(y_train))\n",
    "print(\"count x_test %i\" % len(x_test))\n",
    "print(\"count y_test %i\" % len(y_test))\n",
    "print(\"count x_val %i\" % len(x_val))\n",
    "print(\"count y_val %i\" % len(y_val))"
   ]
  },
  {
   "cell_type": "code",
   "execution_count": 3,
   "metadata": {
    "collapsed": false
   },
   "outputs": [
    {
     "name": "stdout",
     "output_type": "stream",
     "text": [
      "370184\n"
     ]
    }
   ],
   "source": [
    "from sklearn.feature_extraction.text import TfidfVectorizer\n",
    "\n",
    "vectorizer = TfidfVectorizer(min_df=1)\n",
    "X_vec = vectorizer.fit_transform(X)\n",
    "print(len(X_vec.indices))"
   ]
  },
  {
   "cell_type": "code",
   "execution_count": 4,
   "metadata": {
    "collapsed": false
   },
   "outputs": [
    {
     "name": "stdout",
     "output_type": "stream",
     "text": [
      "does anyone know if this would fit a britax marathon\n",
      "[11130 10014  6143  5665  5175  4227  3506  1917  1132]\n"
     ]
    }
   ],
   "source": [
    "print(x_test[0])\n",
    "question = vectorizer.transform([x_test[0]])\n",
    "print(question.indices)"
   ]
  },
  {
   "cell_type": "code",
   "execution_count": 5,
   "metadata": {
    "collapsed": false
   },
   "outputs": [],
   "source": [
    "def benchmark(clf, x_set, y_set, x_test_set, y_test_set):\n",
    "    print('_' * 80)\n",
    "    print(\"Training: \")\n",
    "    print(clf)\n",
    "    t0 = time()\n",
    "    clf.fit(x_set, y_set)\n",
    "    train_time = time() - t0\n",
    "    print(\"train time: %0.3fs\" % train_time)\n",
    "\n",
    "    t0 = time()\n",
    "    pred = clf.predict(x_test_set)\n",
    "    test_time = time() - t0\n",
    "    print(\"test time:  %0.3fs\" % test_time)\n",
    "\n",
    "    score = metrics.accuracy_score(y_test_set, pred)\n",
    "    print(\"accuracy:   %0.3f\" % score)\n",
    "\n",
    "    if hasattr(clf, 'coef_'):\n",
    "        print(\"dimensionality: %d\" % clf.coef_.shape[1])\n",
    "        print(\"density: %f\" % density(clf.coef_))\n",
    "\n",
    "        if opts.print_top10 and feature_names is not None:\n",
    "            print(\"top 10 keywords per class:\")\n",
    "            for i, label in enumerate(target_names):\n",
    "                top10 = np.argsort(clf.coef_[i])[-10:]\n",
    "                print(trim(\"%s: %s\" % (label, \" \".join(feature_names[top10]))))\n",
    "        print()\n",
    "\n",
    "    if opts.print_report:\n",
    "        print(\"classification report:\")\n",
    "        print(metrics.classification_report(y_test_set, pred,\n",
    "                                            target_names=target_names))\n",
    "\n",
    "    if opts.print_cm:\n",
    "        print(\"confusion matrix:\")\n",
    "        print(metrics.confusion_matrix(y_test_set, pred))\n",
    "\n",
    "    print()\n",
    "    clf_descr = str(clf).split('(')[0]\n",
    "    return clf_descr, score, train_time, test_time\n",
    "\n",
    "\n",
    "\n",
    "\n",
    "    "
   ]
  },
  {
   "cell_type": "code",
   "execution_count": 6,
   "metadata": {
    "collapsed": false
   },
   "outputs": [
    {
     "name": "stderr",
     "output_type": "stream",
     "text": [
      "Using TensorFlow backend.\n"
     ]
    },
    {
     "name": "stdout",
     "output_type": "stream",
     "text": [
      "20253\n"
     ]
    }
   ],
   "source": [
    "from keras.preprocessing import sequence\n",
    "\n",
    "x_q_vectors = []\n",
    "for question in x_train:\n",
    "    indices = vectorizer.transform([question]).indices\n",
    "    x_q_vectors.append(indices)\n",
    "    \n",
    "x_q_vectors = sequence.pad_sequences(x_q_vectors, maxlen=500)\n",
    "print(len(x_q_vectors))\n"
   ]
  },
  {
   "cell_type": "code",
   "execution_count": 7,
   "metadata": {
    "collapsed": false
   },
   "outputs": [],
   "source": [
    "x_test_q_vectors = []\n",
    "for question in x_test:\n",
    "    indices = vectorizer.transform([question]).indices\n",
    "    x_test_q_vectors.append(indices)\n",
    "    \n",
    "x_test_q_vectors = sequence.pad_sequences(x_test_q_vectors, maxlen=500)\n",
    "#print(x_test_q_vectors)"
   ]
  },
  {
   "cell_type": "code",
   "execution_count": null,
   "metadata": {
    "collapsed": false
   },
   "outputs": [
    {
     "name": "stdout",
     "output_type": "stream",
     "text": [
      "================================================================================\n",
      "Random forest\n"
     ]
    }
   ],
   "source": [
    "from time import time\n",
    "import matplotlib.pyplot as plt\n",
    "from sklearn.linear_model import RidgeClassifier\n",
    "from sklearn.pipeline import Pipeline\n",
    "from sklearn.svm import LinearSVC\n",
    "from sklearn.linear_model import SGDClassifier\n",
    "from sklearn.linear_model import Perceptron\n",
    "from sklearn.linear_model import PassiveAggressiveClassifier\n",
    "from sklearn.naive_bayes import BernoulliNB, MultinomialNB\n",
    "from sklearn.neighbors import KNeighborsClassifier\n",
    "from sklearn.neighbors import NearestCentroid\n",
    "from sklearn.ensemble import RandomForestClassifier\n",
    "from sklearn.utils.extmath import density\n",
    "from sklearn import metrics\n",
    "\n",
    "\n",
    "results = []\n",
    "#for clf, name in (\n",
    "        #(RidgeClassifier(tol=1e-2, solver=\"lsqr\"), \"Ridge Classifier\"),\n",
    "        #(Perceptron(n_iter=50), \"Perceptron\"),\n",
    "        #(PassiveAggressiveClassifier(n_iter=50), \"Passive-Aggressive\"),\n",
    "        #(KNeighborsClassifier(n_neighbors=10), \"kNN\"),\n",
    "        #(RandomForestClassifier(n_estimators=100), \"Random forest\")):\n",
    "name = \"Random forest\"\n",
    "clf = RandomForestClassifier(n_estimators=100)\n",
    "        \n",
    "print('=' * 80)\n",
    "print(name)\n",
    "\n",
    "clf.fit(x_q_vectors, y_train)\n",
    "\n",
    "#results.append(benchmark(clf, x_q_vectors, y_train, x_test_q_vectors, y_test))"
   ]
  }
 ],
 "metadata": {
  "kernelspec": {
   "display_name": "Python 3",
   "language": "python",
   "name": "python3"
  },
  "language_info": {
   "codemirror_mode": {
    "name": "ipython",
    "version": 3
   },
   "file_extension": ".py",
   "mimetype": "text/x-python",
   "name": "python",
   "nbconvert_exporter": "python",
   "pygments_lexer": "ipython3",
   "version": "3.6.0"
  }
 },
 "nbformat": 4,
 "nbformat_minor": 2
}
