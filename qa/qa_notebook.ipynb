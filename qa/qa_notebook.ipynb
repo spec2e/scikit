{
 "cells": [
  {
   "cell_type": "code",
   "execution_count": 29,
   "metadata": {
    "collapsed": false
   },
   "outputs": [
    {
     "name": "stdout",
     "output_type": "stream",
     "text": [
      "number of question/answers 28933\n",
      "count in X 28933\n",
      "count in Y 28933\n"
     ]
    }
   ],
   "source": [
    "import json\n",
    "import ast\n",
    "\n",
    "all_q_a = []\n",
    "X = []\n",
    "y = []\n",
    "\n",
    "with open(\"qa_baby.json\") as f:\n",
    "\n",
    "    for line in f:\n",
    "        json_line = ast.literal_eval(line)\n",
    "        json_data = json.dumps(json_line)\n",
    "        json_data = json.loads(json_data)\n",
    "        all_q_a.append(json_data)\n",
    "\n",
    "\n",
    "print(\"number of question/answers %i\" % len(all_q_a))\n",
    "\n",
    "for qa in all_q_a:\n",
    "    X.append(qa[\"question\"].lower())\n",
    "    y.append(qa[\"answer\"].lower())\n",
    "\n",
    "\n",
    "print(\"count in X %i\" % len(X))\n",
    "print(\"count in Y %i\" % len(y))"
   ]
  },
  {
   "cell_type": "code",
   "execution_count": 30,
   "metadata": {
    "collapsed": false
   },
   "outputs": [
    {
     "name": "stdout",
     "output_type": "stream",
     "text": [
      "count x_train 20253\n",
      "count y_train 20253\n",
      "count x_test 4340\n",
      "count y_test 4340\n",
      "count x_val 4340\n",
      "count y_val 4340\n"
     ]
    }
   ],
   "source": [
    "from sklearn.model_selection import train_test_split\n",
    "\n",
    "x_train, x_test, y_train, y_test = train_test_split(X, y, test_size=0.3)\n",
    "x_test, x_val, y_test, y_val = train_test_split(x_test, y_test, test_size=0.5)\n",
    "\n",
    "print(\"count x_train %i\" % len(x_train))\n",
    "print(\"count y_train %i\" % len(y_train))\n",
    "print(\"count x_test %i\" % len(x_test))\n",
    "print(\"count y_test %i\" % len(y_test))\n",
    "print(\"count x_val %i\" % len(x_val))\n",
    "print(\"count y_val %i\" % len(y_val))"
   ]
  },
  {
   "cell_type": "code",
   "execution_count": 37,
   "metadata": {
    "collapsed": false
   },
   "outputs": [],
   "source": [
    "from sklearn.feature_extraction.text import TfidfVectorizer\n",
    "\n",
    "vectorizer = TfidfVectorizer(min_df=1)\n",
    "X_train_vec = vectorizer.fit_transform(x_train)"
   ]
  },
  {
   "cell_type": "code",
   "execution_count": 38,
   "metadata": {
    "collapsed": false
   },
   "outputs": [
    {
     "name": "stdout",
     "output_type": "stream",
     "text": [
      "does it seal the edges of the bread?\n",
      "[8550 7348 5830 4647 3162 2973 1565]\n"
     ]
    }
   ],
   "source": [
    "print(x_test[0])\n",
    "res = vectorizer.transform([x_test[0]])\n",
    "print(res.indices)"
   ]
  },
  {
   "cell_type": "code",
   "execution_count": 42,
   "metadata": {
    "collapsed": false
   },
   "outputs": [],
   "source": [
    "from sklearn.feature_selection import SelectKBest, chi2\n",
    "\n",
    "ch2 = SelectKBest(chi2, k=\"all\")\n",
    "x_train = ch2.fit_transform(X_train_vec, y_train)\n",
    "\n",
    "\n",
    "\n",
    "    "
   ]
  },
  {
   "cell_type": "code",
   "execution_count": 65,
   "metadata": {
    "collapsed": false
   },
   "outputs": [
    {
     "ename": "AttributeError",
     "evalue": "'SelectKBest' object has no attribute 'predict'",
     "output_type": "error",
     "traceback": [
      "\u001b[0;31m---------------------------------------------------------------------------\u001b[0m",
      "\u001b[0;31mAttributeError\u001b[0m                            Traceback (most recent call last)",
      "\u001b[0;32m<ipython-input-65-73bbd918a0f7>\u001b[0m in \u001b[0;36m<module>\u001b[0;34m()\u001b[0m\n\u001b[1;32m      1\u001b[0m \u001b[0;31m#print(x_test[0])\u001b[0m\u001b[0;34m\u001b[0m\u001b[0;34m\u001b[0m\u001b[0m\n\u001b[1;32m      2\u001b[0m \u001b[0;31m#print(y_test[0])\u001b[0m\u001b[0;34m\u001b[0m\u001b[0;34m\u001b[0m\u001b[0m\n\u001b[0;32m----> 3\u001b[0;31m \u001b[0mx_test\u001b[0m \u001b[0;34m=\u001b[0m \u001b[0mch2\u001b[0m\u001b[0;34m.\u001b[0m\u001b[0mpredict\u001b[0m\u001b[0;34m(\u001b[0m\u001b[0mres\u001b[0m\u001b[0;34m)\u001b[0m\u001b[0;34m\u001b[0m\u001b[0m\n\u001b[0m\u001b[1;32m      4\u001b[0m \u001b[0;31m#print(x_test)\u001b[0m\u001b[0;34m\u001b[0m\u001b[0;34m\u001b[0m\u001b[0m\n\u001b[1;32m      5\u001b[0m \u001b[0mindices\u001b[0m \u001b[0;34m=\u001b[0m \u001b[0mx_test\u001b[0m\u001b[0;34m[\u001b[0m\u001b[0;36m0\u001b[0m\u001b[0;34m]\u001b[0m\u001b[0;34m.\u001b[0m\u001b[0mindices\u001b[0m\u001b[0;34m\u001b[0m\u001b[0m\n",
      "\u001b[0;31mAttributeError\u001b[0m: 'SelectKBest' object has no attribute 'predict'"
     ]
    }
   ],
   "source": [
    "#print(x_test[0])\n",
    "#print(y_test[0])\n",
    "x_test = ch2.predict(res)\n",
    "#print(x_test)\n",
    "indices = x_test[0].indices\n",
    "\n",
    "reverse_vocabulary = dict(zip(vectorizer.vocabulary_.values(),vectorizer.vocabulary_.keys()))\n",
    "\n",
    "print(indices)\n",
    "\n",
    "for index in indices:\n",
    "    print(reverse_vocabulary.get(index))"
   ]
  }
 ],
 "metadata": {
  "kernelspec": {
   "display_name": "Python 3",
   "language": "python",
   "name": "python3"
  },
  "language_info": {
   "codemirror_mode": {
    "name": "ipython",
    "version": 3
   },
   "file_extension": ".py",
   "mimetype": "text/x-python",
   "name": "python",
   "nbconvert_exporter": "python",
   "pygments_lexer": "ipython3",
   "version": "3.6.0"
  }
 },
 "nbformat": 4,
 "nbformat_minor": 2
}
