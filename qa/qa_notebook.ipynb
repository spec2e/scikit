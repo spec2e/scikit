{
 "cells": [
  {
   "cell_type": "code",
   "execution_count": 6,
   "metadata": {
    "collapsed": true
   },
   "outputs": [],
   "source": [
    "\n"
   ]
  },
  {
   "cell_type": "code",
   "execution_count": 29,
   "metadata": {
    "collapsed": false
   },
   "outputs": [
    {
     "name": "stdout",
     "output_type": "stream",
     "text": [
      "number of question/answers 28933\n",
      "count in X 28933\n",
      "count in Y 28933\n"
     ]
    }
   ],
   "source": [
    "import json\n",
    "import ast\n",
    "\n",
    "all_q_a = []\n",
    "X = []\n",
    "y = []\n",
    "\n",
    "with open(\"qa_baby.json\") as f:\n",
    "\n",
    "    for line in f:\n",
    "        json_line = ast.literal_eval(line)\n",
    "        json_data = json.dumps(json_line)\n",
    "        json_data = json.loads(json_data)\n",
    "        all_q_a.append(json_data)\n",
    "\n",
    "\n",
    "print(\"number of question/answers %i\" % len(all_q_a))\n",
    "\n",
    "for qa in all_q_a:\n",
    "    X.append(qa[\"question\"].lower())\n",
    "    y.append(qa[\"answer\"].lower())\n",
    "\n",
    "\n",
    "print(\"count in X %i\" % len(X))\n",
    "print(\"count in Y %i\" % len(y))"
   ]
  },
  {
   "cell_type": "code",
   "execution_count": 30,
   "metadata": {
    "collapsed": false
   },
   "outputs": [
    {
     "name": "stdout",
     "output_type": "stream",
     "text": [
      "count x_train 20253\n",
      "count y_train 20253\n",
      "count x_test 4340\n",
      "count y_test 4340\n",
      "count x_val 4340\n",
      "count y_val 4340\n"
     ]
    }
   ],
   "source": [
    "from sklearn.model_selection import train_test_split\n",
    "\n",
    "x_train, x_test, y_train, y_test = train_test_split(X, y, test_size=0.3)\n",
    "x_test, x_val, y_test, y_val = train_test_split(x_test, y_test, test_size=0.5)\n",
    "\n",
    "print(\"count x_train %i\" % len(x_train))\n",
    "print(\"count y_train %i\" % len(y_train))\n",
    "print(\"count x_test %i\" % len(x_test))\n",
    "print(\"count y_test %i\" % len(y_test))\n",
    "print(\"count x_val %i\" % len(x_val))\n",
    "print(\"count y_val %i\" % len(y_val))"
   ]
  },
  {
   "cell_type": "code",
   "execution_count": 33,
   "metadata": {
    "collapsed": false
   },
   "outputs": [
    {
     "data": {
      "text/plain": [
       "<20253x9719 sparse matrix of type '<class 'numpy.float64'>'\n",
       "\twith 258656 stored elements in Compressed Sparse Row format>"
      ]
     },
     "execution_count": 33,
     "metadata": {},
     "output_type": "execute_result"
    }
   ],
   "source": [
    "from sklearn.feature_extraction.text import TfidfVectorizer\n",
    "\n",
    "vectorizer = TfidfVectorizer(min_df=1)\n",
    "vectorizer.fit_transform(x_train)"
   ]
  },
  {
   "cell_type": "code",
   "execution_count": 34,
   "metadata": {
    "collapsed": false
   },
   "outputs": [
    {
     "name": "stdout",
     "output_type": "stream",
     "text": [
      "does it seal the edges of the bread?\n",
      "[8550 7348 5830 4647 3162 2973 1565]\n"
     ]
    }
   ],
   "source": [
    "print(x_test[0])\n",
    "res = vectorizer.transform([x_test[0]])\n",
    "print(res.indices)"
   ]
  }
 ],
 "metadata": {
  "kernelspec": {
   "display_name": "Python 3",
   "language": "python",
   "name": "python3"
  },
  "language_info": {
   "codemirror_mode": {
    "name": "ipython",
    "version": 3
   },
   "file_extension": ".py",
   "mimetype": "text/x-python",
   "name": "python",
   "nbconvert_exporter": "python",
   "pygments_lexer": "ipython3",
   "version": "3.6.0"
  }
 },
 "nbformat": 4,
 "nbformat_minor": 2
}
