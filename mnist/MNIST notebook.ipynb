{
 "cells": [
  {
   "cell_type": "markdown",
   "metadata": {},
   "source": [
    "# MNIST"
   ]
  },
  {
   "cell_type": "code",
   "execution_count": null,
   "metadata": {
    "collapsed": false
   },
   "outputs": [],
   "source": [
    "import os\n",
    "\n",
    "import matplotlib.pyplot as plt\n",
    "import numpy\n",
    "from sklearn import metrics\n",
    "from sklearn.ensemble import RandomForestClassifier\n",
    "\n",
    "from mnist_reader import read_data_sets\n",
    "\n",
    "def flatten_images(images):\n",
    "    img_ret = list()\n",
    "    for index, (image) in enumerate(images[:]):\n",
    "        img_ret.append(image.reshape(-1))\n",
    "\n",
    "    return numpy.array(img_ret)\n",
    "\n",
    "\n",
    "def train_mnist(images_to_train, labels_to_train):\n",
    "    data = flatten_images(images_to_train)\n",
    "    trained_classifier = RandomForestClassifier(n_estimators=10)\n",
    "    trained_classifier.fit(data, labels_to_train)\n",
    "    joblib.dump(trained_classifier, MNIST_MODEL_NAME)\n",
    "    return trained_classifier\n",
    "\n",
    "\n",
    "def show_image(image, label, predicted_label):\n",
    "    plt.plot(label)\n",
    "    plt.imshow(image, cmap=plt.cm.gray_r, interpolation='nearest')\n",
    "    plt.title('Expected: ' + str(label) + ', predicted: ' + str(predicted_label[0]))\n",
    "    plt.show()\n",
    "\n",
    "\n",
    "def predict_single_number(image_data, expected_label, image):\n",
    "    predicted_single_number = classifier.predict([image_data])\n",
    "    print(\"Classification report for classifier %s:\\n%s\\n\" %\n",
    "          (classifier, metrics.classification_report([expected_label], predicted_single_number)))\n",
    "    print(\"Confusion matrix:\\n%s\" % metrics.confusion_matrix([expected_label], predicted_single_number))\n",
    "    show_image(image, expected_label, predicted_single_number)\n",
    "\n",
    "\n",
    "def predict_full_validation_set(validation_set, validation_labels):\n",
    "    predicted = classifier.predict(validation_set)\n",
    "    print(\"Classification report for classifier %s:\\n%s\\n\" %\n",
    "          (classifier, metrics.classification_report(validation_labels, predicted)))\n",
    "    print(\"Confusion matrix:\\n%s\" % metrics.confusion_matrix(validation_labels, predicted))\n",
    "\n",
    "\n",
    "# You can change this index to anything between 0 and 9999\n",
    "PICTURE_INDEX_TO_PREDICT = 200\n",
    "    \n",
    "mnist_data = read_data_sets()\n",
    "\n",
    "validation_images = mnist_data[2]\n",
    "validation_labels = mnist_data[3]\n",
    "\n",
    "validation_data = flatten_images(validation_images)\n",
    "\n",
    "classifier = train_mnist(mnist_data[0], mnist_data[1])\n",
    "\n",
    "predict_single_number(\n",
    "                    validation_data[PICTURE_INDEX_TO_PREDICT], \n",
    "                    validation_labels[PICTURE_INDEX_TO_PREDICT], \n",
    "                    validation_images[PICTURE_INDEX_TO_PREDICT]\n",
    "                     )\n",
    "\n",
    "#predict_full_validation_set(validation_data, validation_labels)\n",
    "\n",
    "\n"
   ]
  },
  {
   "cell_type": "code",
   "execution_count": null,
   "metadata": {
    "collapsed": true
   },
   "outputs": [],
   "source": []
  }
 ],
 "metadata": {
  "anaconda-cloud": {},
  "kernelspec": {
   "display_name": "Python [conda root]",
   "language": "python",
   "name": "conda-root-py"
  },
  "language_info": {
   "codemirror_mode": {
    "name": "ipython",
    "version": 3
   },
   "file_extension": ".py",
   "mimetype": "text/x-python",
   "name": "python",
   "nbconvert_exporter": "python",
   "pygments_lexer": "ipython3",
   "version": "3.5.2"
  }
 },
 "nbformat": 4,
 "nbformat_minor": 1
}
